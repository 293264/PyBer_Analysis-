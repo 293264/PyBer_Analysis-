{
 "cells": [
  {
   "cell_type": "code",
   "execution_count": null,
   "id": "587763a5",
   "metadata": {},
   "outputs": [],
   "source": [
    "#Import the Data"
   ]
  },
  {
   "cell_type": "code",
   "execution_count": null,
   "id": "d42a07f1",
   "metadata": {},
   "outputs": [],
   "source": []
  },
  {
   "cell_type": "code",
   "execution_count": 42,
   "id": "2337381a",
   "metadata": {
    "scrolled": true
   },
   "outputs": [],
   "source": [
    "#1. Iport the Data\n",
    "#2. Inspect the Data \n",
    "#   - How many columns and rows are there\n",
    "#   - What types of data are present?\n",
    "#   - Is the data readable or does it need to be converted in some way?"
   ]
  },
  {
   "cell_type": "code",
   "execution_count": null,
   "id": "ec76ee8f",
   "metadata": {},
   "outputs": [],
   "source": []
  },
  {
   "cell_type": "code",
   "execution_count": null,
   "id": "68404daa",
   "metadata": {},
   "outputs": [],
   "source": []
  },
  {
   "cell_type": "code",
   "execution_count": null,
   "id": "d9bd5b78",
   "metadata": {},
   "outputs": [],
   "source": [
    "#Deliverables:\n",
    "#  1. Import your data into a Pandas DataFrame."
   ]
  },
  {
   "cell_type": "code",
   "execution_count": null,
   "id": "77411136",
   "metadata": {},
   "outputs": [],
   "source": [
    "#5.2.3 Load and Read the CSV files (windows)"
   ]
  },
  {
   "cell_type": "code",
   "execution_count": null,
   "id": "5fc78a49",
   "metadata": {},
   "outputs": [],
   "source": []
  },
  {
   "cell_type": "code",
   "execution_count": null,
   "id": "09367d77",
   "metadata": {},
   "outputs": [],
   "source": [
    "#     1. Load the CSV files"
   ]
  },
  {
   "cell_type": "code",
   "execution_count": 44,
   "id": "a5406afb",
   "metadata": {},
   "outputs": [],
   "source": [
    "# Add Matplotlib inline magic command\n",
    "%matplotlib inline\n",
    "# Dependencies and Setup\n",
    "import matplotlib.pyplot as plt\n",
    "import pandas as pd"
   ]
  },
  {
   "cell_type": "code",
   "execution_count": null,
   "id": "df06b4e0",
   "metadata": {},
   "outputs": [],
   "source": []
  },
  {
   "cell_type": "code",
   "execution_count": null,
   "id": "e2b30ef2",
   "metadata": {},
   "outputs": [],
   "source": [
    "#     2. In a new cell, declare variables that connect to the CSV files in the Resources folder:"
   ]
  },
  {
   "cell_type": "code",
   "execution_count": 45,
   "id": "b5000575",
   "metadata": {},
   "outputs": [],
   "source": [
    "# Files to load\n",
    "city_data_to_load = \"Resources/city_data.csv\"\n",
    "ride_data_to_load = \"Resources/ride_data.csv\""
   ]
  },
  {
   "cell_type": "code",
   "execution_count": null,
   "id": "eb3513c9",
   "metadata": {},
   "outputs": [],
   "source": []
  },
  {
   "cell_type": "code",
   "execution_count": null,
   "id": "7931c929",
   "metadata": {},
   "outputs": [],
   "source": [
    "#Alternative Method - If you want to use os.path.join() to load CSV files, you need to import the os module with your dependencies, like this:\n",
    "#import os"
   ]
  },
  {
   "cell_type": "code",
   "execution_count": null,
   "id": "9d66bda2",
   "metadata": {},
   "outputs": [],
   "source": []
  },
  {
   "cell_type": "code",
   "execution_count": null,
   "id": "b799eb3f",
   "metadata": {},
   "outputs": [],
   "source": []
  },
  {
   "cell_type": "code",
   "execution_count": null,
   "id": "3237d233",
   "metadata": {},
   "outputs": [],
   "source": [
    "#Read the file."
   ]
  },
  {
   "cell_type": "code",
   "execution_count": null,
   "id": "8bdda570",
   "metadata": {},
   "outputs": [],
   "source": [
    "#     1. To read a CSV file into Pandas, we use pd.read_csv. Add the following code to a new cell:"
   ]
  },
  {
   "cell_type": "code",
   "execution_count": null,
   "id": "7a9f83d7",
   "metadata": {},
   "outputs": [],
   "source": [
    "#Ready the Ride Data File "
   ]
  },
  {
   "cell_type": "code",
   "execution_count": 49,
   "id": "4da517a9",
   "metadata": {},
   "outputs": [
    {
     "data": {
      "text/html": [
       "<div>\n",
       "<style scoped>\n",
       "    .dataframe tbody tr th:only-of-type {\n",
       "        vertical-align: middle;\n",
       "    }\n",
       "\n",
       "    .dataframe tbody tr th {\n",
       "        vertical-align: top;\n",
       "    }\n",
       "\n",
       "    .dataframe thead th {\n",
       "        text-align: right;\n",
       "    }\n",
       "</style>\n",
       "<table border=\"1\" class=\"dataframe\">\n",
       "  <thead>\n",
       "    <tr style=\"text-align: right;\">\n",
       "      <th></th>\n",
       "      <th>city</th>\n",
       "      <th>driver_count</th>\n",
       "      <th>type</th>\n",
       "    </tr>\n",
       "  </thead>\n",
       "  <tbody>\n",
       "    <tr>\n",
       "      <th>0</th>\n",
       "      <td>Richardfort</td>\n",
       "      <td>38</td>\n",
       "      <td>Urban</td>\n",
       "    </tr>\n",
       "    <tr>\n",
       "      <th>1</th>\n",
       "      <td>Williamsstad</td>\n",
       "      <td>59</td>\n",
       "      <td>Urban</td>\n",
       "    </tr>\n",
       "    <tr>\n",
       "      <th>2</th>\n",
       "      <td>Port Angela</td>\n",
       "      <td>67</td>\n",
       "      <td>Urban</td>\n",
       "    </tr>\n",
       "    <tr>\n",
       "      <th>3</th>\n",
       "      <td>Rodneyfort</td>\n",
       "      <td>34</td>\n",
       "      <td>Urban</td>\n",
       "    </tr>\n",
       "    <tr>\n",
       "      <th>4</th>\n",
       "      <td>West Robert</td>\n",
       "      <td>39</td>\n",
       "      <td>Urban</td>\n",
       "    </tr>\n",
       "    <tr>\n",
       "      <th>5</th>\n",
       "      <td>West Anthony</td>\n",
       "      <td>70</td>\n",
       "      <td>Urban</td>\n",
       "    </tr>\n",
       "    <tr>\n",
       "      <th>6</th>\n",
       "      <td>West Angela</td>\n",
       "      <td>48</td>\n",
       "      <td>Urban</td>\n",
       "    </tr>\n",
       "    <tr>\n",
       "      <th>7</th>\n",
       "      <td>Martinezhaven</td>\n",
       "      <td>25</td>\n",
       "      <td>Urban</td>\n",
       "    </tr>\n",
       "    <tr>\n",
       "      <th>8</th>\n",
       "      <td>Karenberg</td>\n",
       "      <td>22</td>\n",
       "      <td>Urban</td>\n",
       "    </tr>\n",
       "    <tr>\n",
       "      <th>9</th>\n",
       "      <td>Barajasview</td>\n",
       "      <td>26</td>\n",
       "      <td>Urban</td>\n",
       "    </tr>\n",
       "  </tbody>\n",
       "</table>\n",
       "</div>"
      ],
      "text/plain": [
       "            city  driver_count   type\n",
       "0    Richardfort            38  Urban\n",
       "1   Williamsstad            59  Urban\n",
       "2    Port Angela            67  Urban\n",
       "3     Rodneyfort            34  Urban\n",
       "4    West Robert            39  Urban\n",
       "5   West Anthony            70  Urban\n",
       "6    West Angela            48  Urban\n",
       "7  Martinezhaven            25  Urban\n",
       "8      Karenberg            22  Urban\n",
       "9    Barajasview            26  Urban"
      ]
     },
     "execution_count": 49,
     "metadata": {},
     "output_type": "execute_result"
    }
   ],
   "source": [
    "# Read the city data file and store it in a pandas DataFrame.\n",
    "city_data_df = pd.read_csv(\"city_data.csv\")\n",
    "city_data_df.head(10)"
   ]
  },
  {
   "cell_type": "code",
   "execution_count": null,
   "id": "882c9f47",
   "metadata": {},
   "outputs": [],
   "source": []
  },
  {
   "cell_type": "code",
   "execution_count": null,
   "id": "253871b6",
   "metadata": {},
   "outputs": [],
   "source": [
    "#Read the Ride Data File"
   ]
  },
  {
   "cell_type": "code",
   "execution_count": 50,
   "id": "2540976a",
   "metadata": {},
   "outputs": [
    {
     "data": {
      "text/html": [
       "<div>\n",
       "<style scoped>\n",
       "    .dataframe tbody tr th:only-of-type {\n",
       "        vertical-align: middle;\n",
       "    }\n",
       "\n",
       "    .dataframe tbody tr th {\n",
       "        vertical-align: top;\n",
       "    }\n",
       "\n",
       "    .dataframe thead th {\n",
       "        text-align: right;\n",
       "    }\n",
       "</style>\n",
       "<table border=\"1\" class=\"dataframe\">\n",
       "  <thead>\n",
       "    <tr style=\"text-align: right;\">\n",
       "      <th></th>\n",
       "      <th>city</th>\n",
       "      <th>date</th>\n",
       "      <th>fare</th>\n",
       "      <th>ride_id</th>\n",
       "    </tr>\n",
       "  </thead>\n",
       "  <tbody>\n",
       "    <tr>\n",
       "      <th>0</th>\n",
       "      <td>Lake Jonathanshire</td>\n",
       "      <td>2019-01-14 10:14:22</td>\n",
       "      <td>13.83</td>\n",
       "      <td>5739410935873</td>\n",
       "    </tr>\n",
       "    <tr>\n",
       "      <th>1</th>\n",
       "      <td>South Michelleport</td>\n",
       "      <td>2019-03-04 18:24:09</td>\n",
       "      <td>30.24</td>\n",
       "      <td>2343912425577</td>\n",
       "    </tr>\n",
       "    <tr>\n",
       "      <th>2</th>\n",
       "      <td>Port Samanthamouth</td>\n",
       "      <td>2019-02-24 04:29:00</td>\n",
       "      <td>33.44</td>\n",
       "      <td>2005065760003</td>\n",
       "    </tr>\n",
       "    <tr>\n",
       "      <th>3</th>\n",
       "      <td>Rodneyfort</td>\n",
       "      <td>2019-02-10 23:22:03</td>\n",
       "      <td>23.44</td>\n",
       "      <td>5149245426178</td>\n",
       "    </tr>\n",
       "    <tr>\n",
       "      <th>4</th>\n",
       "      <td>South Jack</td>\n",
       "      <td>2019-03-06 04:28:35</td>\n",
       "      <td>34.58</td>\n",
       "      <td>3908451377344</td>\n",
       "    </tr>\n",
       "    <tr>\n",
       "      <th>5</th>\n",
       "      <td>South Latoya</td>\n",
       "      <td>2019-03-11 12:26:48</td>\n",
       "      <td>9.52</td>\n",
       "      <td>1994999424437</td>\n",
       "    </tr>\n",
       "    <tr>\n",
       "      <th>6</th>\n",
       "      <td>New Paulville</td>\n",
       "      <td>2019-02-27 11:17:56</td>\n",
       "      <td>43.25</td>\n",
       "      <td>793208410091</td>\n",
       "    </tr>\n",
       "    <tr>\n",
       "      <th>7</th>\n",
       "      <td>Simpsonburgh</td>\n",
       "      <td>2019-04-26 00:43:24</td>\n",
       "      <td>35.98</td>\n",
       "      <td>111953927754</td>\n",
       "    </tr>\n",
       "    <tr>\n",
       "      <th>8</th>\n",
       "      <td>South Karenland</td>\n",
       "      <td>2019-01-08 03:28:48</td>\n",
       "      <td>35.09</td>\n",
       "      <td>7995623208694</td>\n",
       "    </tr>\n",
       "    <tr>\n",
       "      <th>9</th>\n",
       "      <td>North Jasmine</td>\n",
       "      <td>2019-03-09 06:26:29</td>\n",
       "      <td>42.81</td>\n",
       "      <td>5327642267789</td>\n",
       "    </tr>\n",
       "  </tbody>\n",
       "</table>\n",
       "</div>"
      ],
      "text/plain": [
       "                 city                 date   fare        ride_id\n",
       "0  Lake Jonathanshire  2019-01-14 10:14:22  13.83  5739410935873\n",
       "1  South Michelleport  2019-03-04 18:24:09  30.24  2343912425577\n",
       "2  Port Samanthamouth  2019-02-24 04:29:00  33.44  2005065760003\n",
       "3          Rodneyfort  2019-02-10 23:22:03  23.44  5149245426178\n",
       "4          South Jack  2019-03-06 04:28:35  34.58  3908451377344\n",
       "5        South Latoya  2019-03-11 12:26:48   9.52  1994999424437\n",
       "6       New Paulville  2019-02-27 11:17:56  43.25   793208410091\n",
       "7        Simpsonburgh  2019-04-26 00:43:24  35.98   111953927754\n",
       "8     South Karenland  2019-01-08 03:28:48  35.09  7995623208694\n",
       "9       North Jasmine  2019-03-09 06:26:29  42.81  5327642267789"
      ]
     },
     "execution_count": 50,
     "metadata": {},
     "output_type": "execute_result"
    }
   ],
   "source": [
    "# Read the ride data file and store it in a pandas DataFrame.\n",
    "ride_data_df = pd.read_csv(\"ride_data.csv\")\n",
    "ride_data_df.head(10)"
   ]
  },
  {
   "cell_type": "code",
   "execution_count": null,
   "id": "d0b3c990",
   "metadata": {},
   "outputs": [],
   "source": []
  },
  {
   "cell_type": "code",
   "execution_count": null,
   "id": "4b99f1c7",
   "metadata": {},
   "outputs": [],
   "source": []
  },
  {
   "cell_type": "code",
   "execution_count": null,
   "id": "fddc828f",
   "metadata": {},
   "outputs": [],
   "source": [
    "#Inspect the City Data DataFrame"
   ]
  },
  {
   "cell_type": "code",
   "execution_count": null,
   "id": "7c9d4886",
   "metadata": {},
   "outputs": [],
   "source": [
    "#         1. Get all the rows that contain null values.\n",
    "#            -   Use df.count(). Another option is use df.isnull().sum() method chaining"
   ]
  },
  {
   "cell_type": "code",
   "execution_count": 51,
   "id": "1258d459",
   "metadata": {},
   "outputs": [
    {
     "data": {
      "text/plain": [
       "city            120\n",
       "driver_count    120\n",
       "type            120\n",
       "dtype: int64"
      ]
     },
     "execution_count": 51,
     "metadata": {},
     "output_type": "execute_result"
    }
   ],
   "source": [
    " #Get the columns and the rows that are not null.\n",
    "city_data_df.count()"
   ]
  },
  {
   "cell_type": "code",
   "execution_count": null,
   "id": "76a277db",
   "metadata": {},
   "outputs": [],
   "source": [
    "#         2. Make sure the driver_count column has an integer data type. Type the following code"
   ]
  },
  {
   "cell_type": "code",
   "execution_count": 52,
   "id": "abb908d7",
   "metadata": {},
   "outputs": [
    {
     "data": {
      "text/plain": [
       "city            0\n",
       "driver_count    0\n",
       "type            0\n",
       "dtype: int64"
      ]
     },
     "execution_count": 52,
     "metadata": {},
     "output_type": "execute_result"
    }
   ],
   "source": [
    "# Get the columns and the rows that are not null.\n",
    "city_data_df.isnull().sum()"
   ]
  },
  {
   "cell_type": "code",
   "execution_count": null,
   "id": "ac6b8f53",
   "metadata": {},
   "outputs": [],
   "source": [
    "#         2b. Next, we need to see if the driver_count column has a numerical data type because we plan to perform mathematical calculations on that column"
   ]
  },
  {
   "cell_type": "code",
   "execution_count": 53,
   "id": "9c557434",
   "metadata": {},
   "outputs": [
    {
     "data": {
      "text/plain": [
       "city            object\n",
       "driver_count     int64\n",
       "type            object\n",
       "dtype: object"
      ]
     },
     "execution_count": 53,
     "metadata": {},
     "output_type": "execute_result"
    }
   ],
   "source": [
    "# Get the data types of each column.\n",
    "city_data_df.dtypes"
   ]
  },
  {
   "cell_type": "code",
   "execution_count": null,
   "id": "c7f993cc",
   "metadata": {},
   "outputs": [],
   "source": [
    "# The data type for the driver_count column is the only integer"
   ]
  },
  {
   "cell_type": "code",
   "execution_count": null,
   "id": "100aa797",
   "metadata": {},
   "outputs": [],
   "source": [
    "#         3. Find out how many data points there are for each type of city.\n",
    "#              - use the sum() method on the city_data_df for the type column where the condition equals each city in the DataFrame.\n",
    "#              - use the unique() method on a specific column, which will return an array, or list, of all the unique values of that column"
   ]
  },
  {
   "cell_type": "code",
   "execution_count": 54,
   "id": "5ee9ddfa",
   "metadata": {},
   "outputs": [
    {
     "data": {
      "text/plain": [
       "array(['Urban', 'Suburban', 'Rural'], dtype=object)"
      ]
     },
     "execution_count": 54,
     "metadata": {},
     "output_type": "execute_result"
    }
   ],
   "source": [
    "# Get the unique values of the type of city.\n",
    "city_data_df[\"type\"].unique()"
   ]
  },
  {
   "cell_type": "code",
   "execution_count": null,
   "id": "2060107c",
   "metadata": {},
   "outputs": [],
   "source": [
    "#        3b.  Get the number of data points for the Urban cities, add the following code to a new cell:"
   ]
  },
  {
   "cell_type": "code",
   "execution_count": 55,
   "id": "2dd028a3",
   "metadata": {},
   "outputs": [
    {
     "data": {
      "text/plain": [
       "66"
      ]
     },
     "execution_count": 55,
     "metadata": {},
     "output_type": "execute_result"
    }
   ],
   "source": [
    "# Get the number of data points from the Urban cities.\n",
    "sum(city_data_df[\"type\"]==\"Urban\")"
   ]
  },
  {
   "cell_type": "code",
   "execution_count": 56,
   "id": "d03ff553",
   "metadata": {},
   "outputs": [
    {
     "data": {
      "text/plain": [
       "18"
      ]
     },
     "execution_count": 56,
     "metadata": {},
     "output_type": "execute_result"
    }
   ],
   "source": [
    "# Get the number of data points from the Urban cities.\n",
    "sum(city_data_df[\"type\"]==\"Rural\")"
   ]
  },
  {
   "cell_type": "code",
   "execution_count": 57,
   "id": "f11404f5",
   "metadata": {},
   "outputs": [
    {
     "data": {
      "text/plain": [
       "36"
      ]
     },
     "execution_count": 57,
     "metadata": {},
     "output_type": "execute_result"
    }
   ],
   "source": [
    "# Get the number of data points from the Urban cities.\n",
    "sum(city_data_df[\"type\"]==\"Suburban\")"
   ]
  },
  {
   "cell_type": "code",
   "execution_count": null,
   "id": "0e9c755a",
   "metadata": {},
   "outputs": [],
   "source": []
  },
  {
   "cell_type": "code",
   "execution_count": null,
   "id": "fc0aedad",
   "metadata": {},
   "outputs": [],
   "source": []
  },
  {
   "cell_type": "code",
   "execution_count": null,
   "id": "c1f631aa",
   "metadata": {},
   "outputs": [],
   "source": [
    "#Inspect Ride Data DataFrame"
   ]
  },
  {
   "cell_type": "code",
   "execution_count": null,
   "id": "3b9e7d44",
   "metadata": {},
   "outputs": [],
   "source": [
    "#         1. Get all the rows that contain null values."
   ]
  },
  {
   "cell_type": "code",
   "execution_count": null,
   "id": "f50ecb01",
   "metadata": {},
   "outputs": [],
   "source": [
    "#First, let's get all the rows that are not null"
   ]
  },
  {
   "cell_type": "code",
   "execution_count": 58,
   "id": "d40eac08",
   "metadata": {},
   "outputs": [
    {
     "data": {
      "text/plain": [
       "city       2375\n",
       "date       2375\n",
       "fare       2375\n",
       "ride_id    2375\n",
       "dtype: int64"
      ]
     },
     "execution_count": 58,
     "metadata": {},
     "output_type": "execute_result"
    }
   ],
   "source": [
    "# Get the columns and the rows that are not null.\n",
    "ride_data_df.count()"
   ]
  },
  {
   "cell_type": "code",
   "execution_count": null,
   "id": "0cd37c3c",
   "metadata": {},
   "outputs": [],
   "source": [
    "#And to make sure there are no null values, we can type and run the following code:"
   ]
  },
  {
   "cell_type": "code",
   "execution_count": 59,
   "id": "9fffe9ff",
   "metadata": {},
   "outputs": [
    {
     "data": {
      "text/plain": [
       "city       0\n",
       "date       0\n",
       "fare       0\n",
       "ride_id    0\n",
       "dtype: int64"
      ]
     },
     "execution_count": 59,
     "metadata": {},
     "output_type": "execute_result"
    }
   ],
   "source": [
    "# Get the columns and the rows that are not null.\n",
    "ride_data_df.isnull().sum()"
   ]
  },
  {
   "cell_type": "code",
   "execution_count": null,
   "id": "5094823c",
   "metadata": {},
   "outputs": [],
   "source": []
  },
  {
   "cell_type": "code",
   "execution_count": null,
   "id": "38933eb3",
   "metadata": {},
   "outputs": [],
   "source": [
    "#         2. Make sure the fare and ride_id columns are numerical data types"
   ]
  },
  {
   "cell_type": "code",
   "execution_count": 60,
   "id": "ceb5ff2e",
   "metadata": {},
   "outputs": [
    {
     "data": {
      "text/plain": [
       "city        object\n",
       "date        object\n",
       "fare       float64\n",
       "ride_id      int64\n",
       "dtype: object"
      ]
     },
     "execution_count": 60,
     "metadata": {},
     "output_type": "execute_result"
    }
   ],
   "source": [
    "# Get the data types of each column.\n",
    "ride_data_df.dtypes"
   ]
  },
  {
   "cell_type": "code",
   "execution_count": null,
   "id": "8286d120",
   "metadata": {},
   "outputs": [],
   "source": []
  },
  {
   "cell_type": "code",
   "execution_count": null,
   "id": "ef407962",
   "metadata": {},
   "outputs": [],
   "source": []
  },
  {
   "cell_type": "code",
   "execution_count": null,
   "id": "ae37c9cc",
   "metadata": {},
   "outputs": [],
   "source": []
  },
  {
   "cell_type": "code",
   "execution_count": null,
   "id": "287cd4f4",
   "metadata": {},
   "outputs": [],
   "source": [
    "#Merge your DataFrames.\n",
    "#    -# Before merging, review each DatFrame."
   ]
  },
  {
   "cell_type": "code",
   "execution_count": null,
   "id": "a1e43634",
   "metadata": {},
   "outputs": [],
   "source": [
    "#The columns in the city_data_df DataFrame are"
   ]
  },
  {
   "cell_type": "code",
   "execution_count": null,
   "id": "e9a96e80",
   "metadata": {},
   "outputs": [],
   "source": [
    "#    - City\n",
    "#    - driver_count\n",
    "#    - type"
   ]
  },
  {
   "cell_type": "code",
   "execution_count": null,
   "id": "748ee45c",
   "metadata": {},
   "outputs": [],
   "source": []
  },
  {
   "cell_type": "code",
   "execution_count": null,
   "id": "742524b1",
   "metadata": {},
   "outputs": [],
   "source": [
    "#The columns in the ride_data_df are"
   ]
  },
  {
   "cell_type": "code",
   "execution_count": null,
   "id": "b7539a8b",
   "metadata": {},
   "outputs": [],
   "source": [
    "#    - city\n",
    "#    - date\n",
    "#    - fare\n",
    "#    - ride_id"
   ]
  },
  {
   "cell_type": "code",
   "execution_count": null,
   "id": "279517d0",
   "metadata": {},
   "outputs": [],
   "source": []
  },
  {
   "cell_type": "code",
   "execution_count": null,
   "id": "675c1d84",
   "metadata": {},
   "outputs": [],
   "source": [
    "#When we merge two DataFrames, we merge on a column with the same data, and the same column name, in both DataFrames. \n",
    "#We use the following syntax to do that:\n",
    "\n",
    "#  - new_df = pd.merge(leftdf, rightdf, on=[\"column_leftdf\", \"column_rightdf\"])"
   ]
  },
  {
   "cell_type": "code",
   "execution_count": null,
   "id": "1234bf9f",
   "metadata": {},
   "outputs": [],
   "source": [
    "#We may have to merge the DataFrames using the how= parameter either left, right, inner, or outer depending how we want to merge the DataFrames. The default is inner."
   ]
  },
  {
   "cell_type": "code",
   "execution_count": 61,
   "id": "df624348",
   "metadata": {},
   "outputs": [],
   "source": [
    "#       1. Add the following code to merge the two DataFrames."
   ]
  },
  {
   "cell_type": "code",
   "execution_count": 62,
   "id": "ee2e29e6",
   "metadata": {},
   "outputs": [
    {
     "data": {
      "text/html": [
       "<div>\n",
       "<style scoped>\n",
       "    .dataframe tbody tr th:only-of-type {\n",
       "        vertical-align: middle;\n",
       "    }\n",
       "\n",
       "    .dataframe tbody tr th {\n",
       "        vertical-align: top;\n",
       "    }\n",
       "\n",
       "    .dataframe thead th {\n",
       "        text-align: right;\n",
       "    }\n",
       "</style>\n",
       "<table border=\"1\" class=\"dataframe\">\n",
       "  <thead>\n",
       "    <tr style=\"text-align: right;\">\n",
       "      <th></th>\n",
       "      <th>city</th>\n",
       "      <th>date</th>\n",
       "      <th>fare</th>\n",
       "      <th>ride_id</th>\n",
       "      <th>driver_count</th>\n",
       "      <th>type</th>\n",
       "    </tr>\n",
       "  </thead>\n",
       "  <tbody>\n",
       "    <tr>\n",
       "      <th>0</th>\n",
       "      <td>Lake Jonathanshire</td>\n",
       "      <td>2019-01-14 10:14:22</td>\n",
       "      <td>13.83</td>\n",
       "      <td>5739410935873</td>\n",
       "      <td>5</td>\n",
       "      <td>Urban</td>\n",
       "    </tr>\n",
       "    <tr>\n",
       "      <th>1</th>\n",
       "      <td>South Michelleport</td>\n",
       "      <td>2019-03-04 18:24:09</td>\n",
       "      <td>30.24</td>\n",
       "      <td>2343912425577</td>\n",
       "      <td>72</td>\n",
       "      <td>Urban</td>\n",
       "    </tr>\n",
       "    <tr>\n",
       "      <th>2</th>\n",
       "      <td>Port Samanthamouth</td>\n",
       "      <td>2019-02-24 04:29:00</td>\n",
       "      <td>33.44</td>\n",
       "      <td>2005065760003</td>\n",
       "      <td>57</td>\n",
       "      <td>Urban</td>\n",
       "    </tr>\n",
       "    <tr>\n",
       "      <th>3</th>\n",
       "      <td>Rodneyfort</td>\n",
       "      <td>2019-02-10 23:22:03</td>\n",
       "      <td>23.44</td>\n",
       "      <td>5149245426178</td>\n",
       "      <td>34</td>\n",
       "      <td>Urban</td>\n",
       "    </tr>\n",
       "    <tr>\n",
       "      <th>4</th>\n",
       "      <td>South Jack</td>\n",
       "      <td>2019-03-06 04:28:35</td>\n",
       "      <td>34.58</td>\n",
       "      <td>3908451377344</td>\n",
       "      <td>46</td>\n",
       "      <td>Urban</td>\n",
       "    </tr>\n",
       "  </tbody>\n",
       "</table>\n",
       "</div>"
      ],
      "text/plain": [
       "                 city                 date   fare        ride_id  \\\n",
       "0  Lake Jonathanshire  2019-01-14 10:14:22  13.83  5739410935873   \n",
       "1  South Michelleport  2019-03-04 18:24:09  30.24  2343912425577   \n",
       "2  Port Samanthamouth  2019-02-24 04:29:00  33.44  2005065760003   \n",
       "3          Rodneyfort  2019-02-10 23:22:03  23.44  5149245426178   \n",
       "4          South Jack  2019-03-06 04:28:35  34.58  3908451377344   \n",
       "\n",
       "   driver_count   type  \n",
       "0             5  Urban  \n",
       "1            72  Urban  \n",
       "2            57  Urban  \n",
       "3            34  Urban  \n",
       "4            46  Urban  "
      ]
     },
     "execution_count": 62,
     "metadata": {},
     "output_type": "execute_result"
    }
   ],
   "source": [
    "# Combine the data into a single dataset\n",
    "pyber_data_df = pd.merge(ride_data_df, city_data_df, how=\"left\", on=[\"city\", \"city\"])\n",
    "\n",
    "# Display the DataFrame\n",
    "pyber_data_df.head()"
   ]
  },
  {
   "cell_type": "code",
   "execution_count": null,
   "id": "5bc42a8c",
   "metadata": {},
   "outputs": [],
   "source": []
  },
  {
   "cell_type": "code",
   "execution_count": null,
   "id": "62470f1a",
   "metadata": {},
   "outputs": [],
   "source": []
  },
  {
   "cell_type": "code",
   "execution_count": null,
   "id": "b3b04e1e",
   "metadata": {},
   "outputs": [],
   "source": [
    "#Commit Your Code "
   ]
  },
  {
   "cell_type": "code",
   "execution_count": null,
   "id": "a274a705",
   "metadata": {},
   "outputs": [],
   "source": [
    "#     1. Launch Git Bash."
   ]
  },
  {
   "cell_type": "code",
   "execution_count": null,
   "id": "fc752c0e",
   "metadata": {},
   "outputs": [],
   "source": [
    "#     2. Navigate to the PyBer_Analysis folder using the necessary commands."
   ]
  },
  {
   "cell_type": "code",
   "execution_count": null,
   "id": "ad47cffa",
   "metadata": {},
   "outputs": [],
   "source": [
    "#     3. Check the status by typing git status and pressing Enter. You might see something like this in your bash command line:\n",
    "#       - The PyBer.ipynb file\n",
    "#       - The Resources folder and everything in it\n",
    "#       - The matplotlib_practice.ipynb file"
   ]
  },
  {
   "cell_type": "code",
   "execution_count": null,
   "id": "f2b3bf8b",
   "metadata": {},
   "outputs": [],
   "source": []
  },
  {
   "cell_type": "code",
   "execution_count": null,
   "id": "da599d24",
   "metadata": {},
   "outputs": [],
   "source": []
  },
  {
   "cell_type": "code",
   "execution_count": null,
   "id": "088b3a76",
   "metadata": {},
   "outputs": [],
   "source": []
  },
  {
   "cell_type": "code",
   "execution_count": null,
   "id": "fbdaeff2",
   "metadata": {},
   "outputs": [],
   "source": [
    "#  3. Create a bubble chart that showcases the average fare versus the total number of rides with bubble size based on the total number of drivers for each city type, including urban, suburban, and rural."
   ]
  },
  {
   "cell_type": "code",
   "execution_count": null,
   "id": "edeed800",
   "metadata": {},
   "outputs": [],
   "source": [
    "#      - For the bubble chart will need to plat the following \n",
    "#            - The average fare for each type of city on the y-axis\n",
    "#            - The total number of rides for each type city on the x-axis\n",
    "#            - Make the size of each marker, or bubble, correlate to the average number of drivers for each type of city."
   ]
  },
  {
   "cell_type": "code",
   "execution_count": null,
   "id": "ed3c9220",
   "metadata": {},
   "outputs": [],
   "source": []
  },
  {
   "cell_type": "code",
   "execution_count": null,
   "id": "9567afbf",
   "metadata": {},
   "outputs": [],
   "source": [
    "#      - Here are the steps to create a bubble chart: \n",
    "#            - To get the average fare, we can use the Pandas mean() method for each city in the \"fare\" column.\n",
    "#            - To get the total number of rides for each city, we can use the Pandas count() method for each city in the \"ride_id\" column.\n",
    "#            - To make the bubble size correlate to the number of drivers for each city, we can get the average driver_count for each city."
   ]
  },
  {
   "cell_type": "code",
   "execution_count": null,
   "id": "6094a424",
   "metadata": {},
   "outputs": [],
   "source": []
  },
  {
   "cell_type": "code",
   "execution_count": null,
   "id": "1369b84b",
   "metadata": {},
   "outputs": [],
   "source": [
    "#   Completing the steps will be more efficient if we create separate DataFrames for each type and then create Data Series for each step.\n",
    "\n",
    "#   Let's create three separate DataFrames, one for each type of city."
   ]
  },
  {
   "cell_type": "code",
   "execution_count": 3,
   "id": "6682f983",
   "metadata": {},
   "outputs": [
    {
     "ename": "NameError",
     "evalue": "name 'pyber_data_df' is not defined",
     "output_type": "error",
     "traceback": [
      "\u001b[1;31m---------------------------------------------------------------------------\u001b[0m",
      "\u001b[1;31mNameError\u001b[0m                                 Traceback (most recent call last)",
      "\u001b[1;32m~\\AppData\\Local\\Temp/ipykernel_10516/1023399686.py\u001b[0m in \u001b[0;36m<module>\u001b[1;34m\u001b[0m\n\u001b[0;32m      1\u001b[0m \u001b[1;31m# Create the Urban city DataFrame.\u001b[0m\u001b[1;33m\u001b[0m\u001b[1;33m\u001b[0m\u001b[1;33m\u001b[0m\u001b[0m\n\u001b[1;32m----> 2\u001b[1;33m \u001b[0murban_cities_df\u001b[0m \u001b[1;33m=\u001b[0m \u001b[0mpyber_data_df\u001b[0m\u001b[1;33m[\u001b[0m\u001b[0mpyber_data_df\u001b[0m\u001b[1;33m[\u001b[0m\u001b[1;34m\"type\"\u001b[0m\u001b[1;33m]\u001b[0m \u001b[1;33m==\u001b[0m \u001b[1;34m\"Urban\"\u001b[0m\u001b[1;33m]\u001b[0m\u001b[1;33m\u001b[0m\u001b[1;33m\u001b[0m\u001b[0m\n\u001b[0m\u001b[0;32m      3\u001b[0m \u001b[0murban_cities_df\u001b[0m\u001b[1;33m.\u001b[0m\u001b[0mhead\u001b[0m\u001b[1;33m(\u001b[0m\u001b[1;33m)\u001b[0m\u001b[1;33m\u001b[0m\u001b[1;33m\u001b[0m\u001b[0m\n",
      "\u001b[1;31mNameError\u001b[0m: name 'pyber_data_df' is not defined"
     ]
    }
   ],
   "source": [
    "# Create the Urban city DataFrame.\n",
    "urban_cities_df = pyber_data_df[pyber_data_df[\"type\"] == \"Urban\"]\n",
    "urban_cities_df.head()"
   ]
  },
  {
   "cell_type": "code",
   "execution_count": null,
   "id": "b134f7b3",
   "metadata": {},
   "outputs": [],
   "source": []
  },
  {
   "cell_type": "code",
   "execution_count": null,
   "id": "8e98cc47",
   "metadata": {},
   "outputs": [],
   "source": []
  },
  {
   "cell_type": "code",
   "execution_count": 43,
   "id": "59bb8e65",
   "metadata": {},
   "outputs": [],
   "source": []
  },
  {
   "cell_type": "code",
   "execution_count": null,
   "id": "891251ec",
   "metadata": {},
   "outputs": [],
   "source": []
  },
  {
   "cell_type": "code",
   "execution_count": null,
   "id": "440ecc91",
   "metadata": {},
   "outputs": [],
   "source": [
    "#  4. Determine the mean, median, and mode for the following."
   ]
  },
  {
   "cell_type": "code",
   "execution_count": null,
   "id": "f35bdfdc",
   "metadata": {},
   "outputs": [],
   "source": [
    "#       - The total number of rides for each city type."
   ]
  },
  {
   "cell_type": "code",
   "execution_count": null,
   "id": "855ab085",
   "metadata": {},
   "outputs": [],
   "source": [
    "#       - The average fares for each city type."
   ]
  },
  {
   "cell_type": "code",
   "execution_count": null,
   "id": "fb418166",
   "metadata": {},
   "outputs": [],
   "source": [
    "#       - The total number of drivers for each city type."
   ]
  },
  {
   "cell_type": "code",
   "execution_count": null,
   "id": "57540903",
   "metadata": {},
   "outputs": [],
   "source": [
    "#  5. Create box-and-whisker plots that visualize each of the following to determine if there are any outliers:"
   ]
  },
  {
   "cell_type": "code",
   "execution_count": null,
   "id": "55fcf800",
   "metadata": {},
   "outputs": [],
   "source": [
    "#       - The number of rides for each city type."
   ]
  },
  {
   "cell_type": "code",
   "execution_count": null,
   "id": "aa1230f4",
   "metadata": {},
   "outputs": [],
   "source": [
    "#       - The fares for each city type."
   ]
  },
  {
   "cell_type": "code",
   "execution_count": null,
   "id": "29d14ae7",
   "metadata": {},
   "outputs": [],
   "source": [
    "#       - The number of drivers for each city type."
   ]
  },
  {
   "cell_type": "code",
   "execution_count": null,
   "id": "acced6f0",
   "metadata": {},
   "outputs": [],
   "source": [
    "# 6. Create a pie chart that visualizes each of the following data for each city type:"
   ]
  },
  {
   "cell_type": "code",
   "execution_count": null,
   "id": "75faaab2",
   "metadata": {},
   "outputs": [],
   "source": [
    "#       - The percent of total fares."
   ]
  },
  {
   "cell_type": "code",
   "execution_count": null,
   "id": "ae5e9ed0",
   "metadata": {},
   "outputs": [],
   "source": [
    "#       - The percent of total rides."
   ]
  },
  {
   "cell_type": "code",
   "execution_count": null,
   "id": "7e90ceaf",
   "metadata": {},
   "outputs": [],
   "source": [
    "#       - The percent of total drivers."
   ]
  },
  {
   "cell_type": "code",
   "execution_count": null,
   "id": "2d7985ee",
   "metadata": {},
   "outputs": [],
   "source": []
  },
  {
   "cell_type": "code",
   "execution_count": null,
   "id": "89307c60",
   "metadata": {},
   "outputs": [],
   "source": []
  },
  {
   "cell_type": "code",
   "execution_count": null,
   "id": "4573b002",
   "metadata": {},
   "outputs": [],
   "source": []
  },
  {
   "cell_type": "code",
   "execution_count": null,
   "id": "5e376445",
   "metadata": {},
   "outputs": [],
   "source": []
  },
  {
   "cell_type": "code",
   "execution_count": null,
   "id": "d7ff8828",
   "metadata": {},
   "outputs": [],
   "source": []
  }
 ],
 "metadata": {
  "kernelspec": {
   "display_name": "PythonData",
   "language": "python",
   "name": "pythondata"
  },
  "language_info": {
   "codemirror_mode": {
    "name": "ipython",
    "version": 3
   },
   "file_extension": ".py",
   "mimetype": "text/x-python",
   "name": "python",
   "nbconvert_exporter": "python",
   "pygments_lexer": "ipython3",
   "version": "3.7.10"
  }
 },
 "nbformat": 4,
 "nbformat_minor": 5
}
